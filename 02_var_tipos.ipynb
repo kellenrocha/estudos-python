{
 "cells": [
  {
   "cell_type": "markdown",
   "metadata": {},
   "source": [
    "Variáveis e Tipos de dados"
   ]
  },
  {
   "cell_type": "code",
   "execution_count": 1,
   "metadata": {},
   "outputs": [
    {
     "name": "stdout",
     "output_type": "stream",
     "text": [
      "Hello, World!\n"
     ]
    }
   ],
   "source": [
    "print(\"Hello, World!\")"
   ]
  },
  {
   "cell_type": "code",
   "execution_count": 11,
   "metadata": {},
   "outputs": [
    {
     "name": "stdout",
     "output_type": "stream",
     "text": [
      "Kéllen\n",
      "26\n",
      "1.76\n"
     ]
    }
   ],
   "source": [
    "nome = \"Kéllen\"\n",
    "idade = 26\n",
    "altura = 1.76\n",
    "\n",
    "print(nome)\n",
    "print(idade)\n",
    "print(altura)"
   ]
  },
  {
   "cell_type": "code",
   "execution_count": 13,
   "metadata": {},
   "outputs": [
    {
     "name": "stdout",
     "output_type": "stream",
     "text": [
      "O tipo da variável 'nome' é:  <class 'str'>\n",
      "O tipo da variável 'idade' é:  <class 'int'>\n",
      "O tipo da variável 'altura' é:  <class 'float'>\n"
     ]
    }
   ],
   "source": [
    "nome = \"Kéllen\"\n",
    "idade = 26\n",
    "altura = 1.76\n",
    "\n",
    "print(\"O tipo da variável 'nome' é: \", type(nome))\n",
    "print(\"O tipo da variável 'idade' é: \", type(idade))\n",
    "print(\"O tipo da variável 'altura' é: \", type(altura))"
   ]
  },
  {
   "cell_type": "code",
   "execution_count": 6,
   "metadata": {},
   "outputs": [
    {
     "name": "stdout",
     "output_type": "stream",
     "text": [
      "<class 'str'>\n",
      "<class 'int'>\n",
      "<class 'float'>\n"
     ]
    }
   ],
   "source": [
    "nome = str(input(\"Digite seu nome: \"))\n",
    "idade = int( input(\"Digite sua idade: \") )\n",
    "altura = float( input(\"Digite sua altura: \") )\n",
    "\n",
    "print(type(nome))\n",
    "print(type(idade))\n",
    "print(type(altura))"
   ]
  },
  {
   "cell_type": "code",
   "execution_count": 7,
   "metadata": {},
   "outputs": [
    {
     "name": "stdout",
     "output_type": "stream",
     "text": [
      "<class 'bool'>\n",
      "False\n"
     ]
    }
   ],
   "source": [
    "# boolean\n",
    "is_python = True\n",
    "is_java = False\n",
    "\n",
    "print(type(is_python))\n",
    "print(is_java)"
   ]
  },
  {
   "cell_type": "code",
   "execution_count": 8,
   "metadata": {},
   "outputs": [
    {
     "name": "stdout",
     "output_type": "stream",
     "text": [
      "False\n"
     ]
    }
   ],
   "source": [
    "# armazenando condições \n",
    "ingressos = 50\n",
    "compradores = 250\n",
    "tem_ingresso_suficiente = (ingressos >= compradores)\n",
    "print(tem_ingresso_suficiente)"
   ]
  },
  {
   "cell_type": "code",
   "execution_count": 9,
   "metadata": {},
   "outputs": [
    {
     "name": "stdout",
     "output_type": "stream",
     "text": [
      "morango\n",
      "manga\n",
      "melão\n"
     ]
    }
   ],
   "source": [
    "x, y, z = \"morango\", \"manga\", \"melão\"\n",
    "print(x)\n",
    "print(y)\n",
    "print(z)"
   ]
  },
  {
   "cell_type": "markdown",
   "metadata": {},
   "source": [
    "Calculadora de Idade"
   ]
  },
  {
   "cell_type": "code",
   "execution_count": 19,
   "metadata": {},
   "outputs": [
    {
     "name": "stdout",
     "output_type": "stream",
     "text": [
      "Em 2025 vc tem ou fará 27 anos\n"
     ]
    }
   ],
   "source": [
    "#Praticando\n",
    "\n",
    "ano_atual = int(input(\"Digite o ano atual: \"))\n",
    "ano_nascimento = int(input(\"Digite o ano em que vc nasceu: \"))\n",
    "\n",
    "idade = ano_atual - ano_nascimento\n",
    "print(\"Em\", ano_atual, \"vc tem ou fará\", idade, \"anos\")"
   ]
  },
  {
   "cell_type": "code",
   "execution_count": null,
   "metadata": {},
   "outputs": [],
   "source": []
  }
 ],
 "metadata": {
  "kernelspec": {
   "display_name": "base",
   "language": "python",
   "name": "python3"
  },
  "language_info": {
   "codemirror_mode": {
    "name": "ipython",
    "version": 3
   },
   "file_extension": ".py",
   "mimetype": "text/x-python",
   "name": "python",
   "nbconvert_exporter": "python",
   "pygments_lexer": "ipython3",
   "version": "3.9.13"
  }
 },
 "nbformat": 4,
 "nbformat_minor": 2
}
