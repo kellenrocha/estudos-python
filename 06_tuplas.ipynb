{
 "cells": [
  {
   "cell_type": "markdown",
   "metadata": {},
   "source": [
    "Tuplas"
   ]
  },
  {
   "cell_type": "code",
   "execution_count": 4,
   "metadata": {},
   "outputs": [
    {
     "name": "stdout",
     "output_type": "stream",
     "text": [
      "('apple', 'banana', 'cherry', 'banana')\n",
      "<class 'tuple'>\n",
      "4\n"
     ]
    }
   ],
   "source": [
    "#Tuplas\n",
    "#Tuple items are ordered, unchangeable, and allow duplicate values.\n",
    "\n",
    "minha_tupla = (\"apple\", \"banana\", \"cherry\", \"banana\")\n",
    "print(minha_tupla)\n",
    "print(type(minha_tupla))\n",
    "print(len(minha_tupla))"
   ]
  },
  {
   "cell_type": "code",
   "execution_count": 6,
   "metadata": {},
   "outputs": [
    {
     "name": "stdout",
     "output_type": "stream",
     "text": [
      "<class 'tuple'>\n",
      "('apple', 'banana', 'cherry')\n"
     ]
    }
   ],
   "source": [
    "#tupla só com um item usa-se virgula\n",
    "tupla1 = (\"apple\",) \n",
    "print(type(tupla1))\n",
    "\n",
    "# Construct\n",
    "tupla2 = tuple((\"apple\", \"banana\", \"cherry\"))\n",
    "print(tupla2)"
   ]
  },
  {
   "cell_type": "code",
   "execution_count": 7,
   "metadata": {},
   "outputs": [
    {
     "name": "stdout",
     "output_type": "stream",
     "text": [
      "('melon', 'kiwi', 'banana')\n"
     ]
    }
   ],
   "source": [
    "#Para \"alterar\" uma tupla é possível converte-la em lista, fazer a alteração, e retornar para tupla\n",
    "\n",
    "tupla3 = (\"melon\", \"mango\", \"banana\")\n",
    "minhaLista = list(tupla3)\n",
    "minhaLista[1] = \"kiwi\"\n",
    "tupla3 = tuple(minhaLista)\n",
    "print(tupla3)"
   ]
  },
  {
   "cell_type": "code",
   "execution_count": 8,
   "metadata": {},
   "outputs": [
    {
     "name": "stdout",
     "output_type": "stream",
     "text": [
      "kiwi\n",
      "banana\n",
      "mango\n"
     ]
    }
   ],
   "source": [
    "# Descompactando uma tupla\n",
    "\n",
    "fruits = (\"kiwi\", \"banana\", \"mango\")\n",
    "\n",
    "(green, yellow, red) = fruits\n",
    "\n",
    "print(green)\n",
    "print(yellow)\n",
    "print(red)\n"
   ]
  },
  {
   "cell_type": "markdown",
   "metadata": {},
   "source": [
    "Exercicios"
   ]
  },
  {
   "cell_type": "code",
   "execution_count": 16,
   "metadata": {},
   "outputs": [
    {
     "name": "stdout",
     "output_type": "stream",
     "text": [
      "['banana']\n",
      "['banana', 'mango']\n",
      "['banana', 'mango', 'kiwi']\n",
      "O item não está na lista\n",
      "['banana', 'mango', 'kiwi']\n",
      "['mango', 'kiwi']\n"
     ]
    }
   ],
   "source": [
    "#Criar uma lista de compras e adicionar e remover itens\n",
    "\n",
    "lista_compras = []\n",
    "\n",
    "i = 1\n",
    "\n",
    "while i == 1: \n",
    "    menu = input(\"Lista de Compras - Adicionar ou Remover? [a/r]\")\n",
    "\n",
    "    if menu == \"a\":\n",
    "        lista_compras.append(input(\"Qual item deseja adicionar?:\"))\n",
    "    elif menu == \"r\":\n",
    "        item_remover = input(\"Qual item deseja remover?:\")\n",
    "        if item_remover in lista_compras:\n",
    "            lista_compras.remove(item_remover)\n",
    "        else:\n",
    "            print(\"O item não está na lista\")\n",
    "    else: \n",
    "        print(\"Entrada inválida\")\n",
    "\n",
    "    print(lista_compras)\n",
    "    i = int(input(\"Deseja adicionar ou remover outro item na Lista de Compras? [1 para sim / 0 para não]\"))\n",
    "    "
   ]
  },
  {
   "cell_type": "code",
   "execution_count": null,
   "metadata": {},
   "outputs": [
    {
     "name": "stdout",
     "output_type": "stream",
     "text": [
      "[55]\n",
      "[10, 55]\n",
      "[10, 13, 55]\n",
      "[7, 10, 13, 55]\n"
     ]
    }
   ],
   "source": [
    "#Ordernar uma lista de números\n",
    "\n",
    "lista_num = []\n",
    "\n",
    "i = 1\n",
    "\n",
    "while i == 1:\n",
    "    menu = input(\"Adicionar um numero? [s/n]\")\n",
    "\n",
    "    if menu == \"s\":\n",
    "        num = int(input(\"Digite o número:\"))\n",
    "        lista_num.append(num)\n",
    "        lista_num.sort()\n",
    "        print(lista_num)\n",
    "    elif menu == \"n\":\n",
    "        input(\"Encerrando\")\n",
    "        i = 0\n",
    "    else: \n",
    "        input(\"Entrada inválida\")"
   ]
  },
  {
   "cell_type": "code",
   "execution_count": null,
   "metadata": {},
   "outputs": [],
   "source": []
  }
 ],
 "metadata": {
  "kernelspec": {
   "display_name": "base",
   "language": "python",
   "name": "python3"
  },
  "language_info": {
   "codemirror_mode": {
    "name": "ipython",
    "version": 3
   },
   "file_extension": ".py",
   "mimetype": "text/x-python",
   "name": "python",
   "nbconvert_exporter": "python",
   "pygments_lexer": "ipython3",
   "version": "3.9.13"
  }
 },
 "nbformat": 4,
 "nbformat_minor": 2
}
