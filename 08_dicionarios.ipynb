{
 "cells": [
  {
   "cell_type": "markdown",
   "metadata": {},
   "source": [
    "Dicionários"
   ]
  },
  {
   "cell_type": "code",
   "execution_count": null,
   "metadata": {},
   "outputs": [
    {
     "name": "stdout",
     "output_type": "stream",
     "text": [
      "{'brand': 'Ford', 'model': 'Mustang', 'year': 1964}\n",
      "Ford\n"
     ]
    }
   ],
   "source": [
    "# Dictionaries are used to store data values in key:value pairs. \n",
    "# Dictionary é uma coleção que é ordenada, mutável e não permite duplicados. \n",
    "# As of Python version 3.7, dictionaries are ordered\n",
    "\n",
    "thisdict = {\n",
    "    \"brand\": \"Ford\",\n",
    "    \"model\": \"Mustang\",\n",
    "    \"year\": 1964\n",
    "}\n",
    "\n",
    "print(thisdict)\n",
    "print(thisdict[\"brand\"])"
   ]
  },
  {
   "cell_type": "code",
   "execution_count": null,
   "metadata": {},
   "outputs": [
    {
     "name": "stdout",
     "output_type": "stream",
     "text": [
      "{'brand': 'Ford', 'model': 'Mustang', 'year': 2020}\n",
      "3\n"
     ]
    }
   ],
   "source": [
    "# Duplicação não é permitido\n",
    "\n",
    "thisdict = {\n",
    "    \"brand\": \"Ford\",\n",
    "    \"model\": \"Mustang\",\n",
    "    \"year\": 1964,\n",
    "    \"year\": 2020 \n",
    "}\n",
    "\n",
    "print(thisdict)\n",
    "print(len(thisdict))"
   ]
  },
  {
   "cell_type": "code",
   "execution_count": 6,
   "metadata": {},
   "outputs": [
    {
     "name": "stdout",
     "output_type": "stream",
     "text": [
      "<class 'dict'>\n"
     ]
    }
   ],
   "source": [
    "# Data types\n",
    "\n",
    "thisdict = {\n",
    "    \"brand\": \"Ford\",\n",
    "    \"model\": \"Mustang\",\n",
    "    \"year\": 1964,\n",
    "    \"colors\": [\"red\", \"white\", \"blue\"]\n",
    "}\n",
    "\n",
    "print(type(thisdict))"
   ]
  },
  {
   "cell_type": "code",
   "execution_count": 7,
   "metadata": {},
   "outputs": [
    {
     "name": "stdout",
     "output_type": "stream",
     "text": [
      "{'name': 'John', 'age': 36, 'country': 'Norway'}\n"
     ]
    }
   ],
   "source": [
    "# Constructor\n",
    "\n",
    "thisdict = dict(name = \"John\", age = 36, country = \"Norway\")\n",
    "print(thisdict)"
   ]
  },
  {
   "cell_type": "code",
   "execution_count": null,
   "metadata": {},
   "outputs": [],
   "source": []
  }
 ],
 "metadata": {
  "kernelspec": {
   "display_name": "base",
   "language": "python",
   "name": "python3"
  },
  "language_info": {
   "codemirror_mode": {
    "name": "ipython",
    "version": 3
   },
   "file_extension": ".py",
   "mimetype": "text/x-python",
   "name": "python",
   "nbconvert_exporter": "python",
   "pygments_lexer": "ipython3",
   "version": "3.9.13"
  }
 },
 "nbformat": 4,
 "nbformat_minor": 2
}
