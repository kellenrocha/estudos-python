{
 "cells": [
  {
   "cell_type": "markdown",
   "id": "02e37854",
   "metadata": {},
   "source": [
    "Funções"
   ]
  },
  {
   "cell_type": "code",
   "execution_count": 6,
   "id": "4a0973c8",
   "metadata": {},
   "outputs": [],
   "source": [
    "#Definindo função simples\n",
    "def PrimeiraFunc():\n",
    "    print(\"Hello World!\")"
   ]
  },
  {
   "cell_type": "code",
   "execution_count": 3,
   "id": "2d3a9793",
   "metadata": {},
   "outputs": [
    {
     "name": "stdout",
     "output_type": "stream",
     "text": [
      "Hello World!\n"
     ]
    }
   ],
   "source": [
    "PrimeiraFunc()"
   ]
  },
  {
   "cell_type": "code",
   "execution_count": null,
   "id": "582745cd",
   "metadata": {},
   "outputs": [],
   "source": [
    "def PrimeiraFunc():\n",
    "    nome = \"Bob\"\n",
    "    print(\"Hello %s\" %(nome))"
   ]
  },
  {
   "cell_type": "code",
   "execution_count": null,
   "id": "ef50bdea",
   "metadata": {},
   "outputs": [
    {
     "name": "stdout",
     "output_type": "stream",
     "text": [
      "Hello Bob\n"
     ]
    }
   ],
   "source": [
    "PrimeiraFunc()"
   ]
  },
  {
   "cell_type": "code",
   "execution_count": 7,
   "id": "05b89243",
   "metadata": {},
   "outputs": [],
   "source": [
    "#Definindo função com parametro\n",
    "def SegundaFunc(nome):\n",
    "    print(\"Hello %s\" %(nome))"
   ]
  },
  {
   "cell_type": "code",
   "execution_count": 9,
   "id": "ab4058f8",
   "metadata": {},
   "outputs": [
    {
     "name": "stdout",
     "output_type": "stream",
     "text": [
      "Hello Aluno\n"
     ]
    }
   ],
   "source": [
    "SegundaFunc(\"Aluno\")"
   ]
  },
  {
   "cell_type": "code",
   "execution_count": null,
   "id": "acc1f454",
   "metadata": {},
   "outputs": [],
   "source": []
  }
 ],
 "metadata": {
  "kernelspec": {
   "display_name": "base",
   "language": "python",
   "name": "python3"
  },
  "language_info": {
   "codemirror_mode": {
    "name": "ipython",
    "version": 3
   },
   "file_extension": ".py",
   "mimetype": "text/x-python",
   "name": "python",
   "nbconvert_exporter": "python",
   "pygments_lexer": "ipython3",
   "version": "3.9.13"
  }
 },
 "nbformat": 4,
 "nbformat_minor": 5
}
