{
 "cells": [
  {
   "cell_type": "markdown",
   "id": "02e37854",
   "metadata": {},
   "source": [
    "Funções"
   ]
  },
  {
   "cell_type": "code",
   "execution_count": 15,
   "id": "4a0973c8",
   "metadata": {},
   "outputs": [],
   "source": [
    "#Definindo função simples\n",
    "def PrimeiraFunc():\n",
    "    print(\"Hello World!\")"
   ]
  },
  {
   "cell_type": "code",
   "execution_count": 3,
   "id": "2d3a9793",
   "metadata": {},
   "outputs": [
    {
     "name": "stdout",
     "output_type": "stream",
     "text": [
      "Hello World!\n"
     ]
    }
   ],
   "source": [
    "PrimeiraFunc()"
   ]
  },
  {
   "cell_type": "code",
   "execution_count": null,
   "id": "582745cd",
   "metadata": {},
   "outputs": [],
   "source": [
    "def PrimeiraFunc():\n",
    "    nome = \"Bob\"\n",
    "    print(\"Hello %s\" %(nome))"
   ]
  },
  {
   "cell_type": "code",
   "execution_count": null,
   "id": "ef50bdea",
   "metadata": {},
   "outputs": [
    {
     "name": "stdout",
     "output_type": "stream",
     "text": [
      "Hello Bob\n"
     ]
    }
   ],
   "source": [
    "PrimeiraFunc()"
   ]
  },
  {
   "cell_type": "code",
   "execution_count": 7,
   "id": "05b89243",
   "metadata": {},
   "outputs": [],
   "source": [
    "#Definindo função com parametro\n",
    "def SegundaFunc(nome):\n",
    "    print(\"Hello %s\" %(nome))"
   ]
  },
  {
   "cell_type": "code",
   "execution_count": 9,
   "id": "ab4058f8",
   "metadata": {},
   "outputs": [
    {
     "name": "stdout",
     "output_type": "stream",
     "text": [
      "Hello Aluno\n"
     ]
    }
   ],
   "source": [
    "SegundaFunc(\"Aluno\")"
   ]
  },
  {
   "cell_type": "code",
   "execution_count": 10,
   "id": "acc1f454",
   "metadata": {},
   "outputs": [],
   "source": [
    "#Função para somar numeros\n",
    "def addNum(firstnum, secondnum):\n",
    "    print(\"Primeiro número: \" + str(firstnum))\n",
    "    print(\"Segundo número: \" + str(secondnum))\n",
    "    print(\"Soma: \", firstnum + secondnum)"
   ]
  },
  {
   "cell_type": "code",
   "execution_count": 11,
   "id": "59c55539",
   "metadata": {},
   "outputs": [
    {
     "name": "stdout",
     "output_type": "stream",
     "text": [
      "Primeiro número: 4\n",
      "Segundo número: 7\n",
      "Soma:  11\n"
     ]
    }
   ],
   "source": [
    "#Chamando a função e passando os parâmetros\n",
    "addNum(4,7)"
   ]
  },
  {
   "cell_type": "markdown",
   "id": "6a520f5d",
   "metadata": {},
   "source": [
    "Criando funções usando outras funções"
   ]
  },
  {
   "cell_type": "code",
   "execution_count": 13,
   "id": "4dd120ab",
   "metadata": {},
   "outputs": [],
   "source": [
    "import math\n",
    "\n",
    "# Verificando se um número é primo \n",
    "def numPrimo(num):\n",
    "    if (num % 2) == 0 and num > 2:\n",
    "        return \"Este número não é primo\"\n",
    "    for i in range(3, int(math.sqrt(num)) + 1, 2):\n",
    "        if (num % i) == 0: \n",
    "            return \"Este número não é primo\"\n",
    "    return \"Este número é primo\""
   ]
  },
  {
   "cell_type": "code",
   "execution_count": 14,
   "id": "0f295ad0",
   "metadata": {},
   "outputs": [
    {
     "data": {
      "text/plain": [
       "'Este número é primo'"
      ]
     },
     "execution_count": 14,
     "metadata": {},
     "output_type": "execute_result"
    }
   ],
   "source": [
    "numPrimo(541)"
   ]
  },
  {
   "cell_type": "code",
   "execution_count": null,
   "id": "8b4c9f15",
   "metadata": {},
   "outputs": [],
   "source": []
  }
 ],
 "metadata": {
  "kernelspec": {
   "display_name": "base",
   "language": "python",
   "name": "python3"
  },
  "language_info": {
   "codemirror_mode": {
    "name": "ipython",
    "version": 3
   },
   "file_extension": ".py",
   "mimetype": "text/x-python",
   "name": "python",
   "nbconvert_exporter": "python",
   "pygments_lexer": "ipython3",
   "version": "3.9.13"
  }
 },
 "nbformat": 4,
 "nbformat_minor": 5
}
