{
 "cells": [
  {
   "cell_type": "markdown",
   "id": "2678ed33",
   "metadata": {},
   "source": [
    "List Comprehension"
   ]
  },
  {
   "cell_type": "code",
   "execution_count": 4,
   "id": "acbb4fb6",
   "metadata": {},
   "outputs": [],
   "source": [
    "# [expressão for item in interable if condição == True]"
   ]
  },
  {
   "cell_type": "code",
   "execution_count": 5,
   "id": "3803197b",
   "metadata": {},
   "outputs": [
    {
     "name": "stdout",
     "output_type": "stream",
     "text": [
      "[0, 1, 2, 3, 4, 5, 6, 7, 8, 9]\n"
     ]
    }
   ],
   "source": [
    "lista_num = [x for x in range(10)]\n",
    "print(lista_num)"
   ]
  },
  {
   "cell_type": "code",
   "execution_count": 6,
   "id": "701c18d8",
   "metadata": {},
   "outputs": [
    {
     "name": "stdout",
     "output_type": "stream",
     "text": [
      "[0, 1, 2, 3, 4]\n"
     ]
    }
   ],
   "source": [
    "lista_num = [x for x in range(10) if x < 5]\n",
    "print(lista_num)"
   ]
  },
  {
   "cell_type": "code",
   "execution_count": 8,
   "id": "01c20a74",
   "metadata": {},
   "outputs": [],
   "source": [
    "lista_frutas = [\"banana\", 'abacate', 'melancia', 'cereja', 'manga']\n",
    "nova_lista = []"
   ]
  },
  {
   "cell_type": "code",
   "execution_count": 9,
   "id": "124c9d2e",
   "metadata": {},
   "outputs": [
    {
     "name": "stdout",
     "output_type": "stream",
     "text": [
      "['melancia', 'manga']\n"
     ]
    }
   ],
   "source": [
    "# loop tradicional\n",
    "for x in lista_frutas:\n",
    "    if \"m\" in x:\n",
    "        nova_lista.append(x)\n",
    "\n",
    "print(nova_lista)"
   ]
  },
  {
   "cell_type": "code",
   "execution_count": 10,
   "id": "4965e5a8",
   "metadata": {},
   "outputs": [
    {
     "name": "stdout",
     "output_type": "stream",
     "text": [
      "['melancia', 'manga']\n"
     ]
    }
   ],
   "source": [
    "nova_lista = [x for x in lista_frutas if \"m\" in x]\n",
    "print(nova_lista)"
   ]
  },
  {
   "cell_type": "markdown",
   "id": "2dde3116",
   "metadata": {},
   "source": [
    "Dict Comprehension"
   ]
  },
  {
   "cell_type": "code",
   "execution_count": 11,
   "id": "11e796fe",
   "metadata": {},
   "outputs": [
    {
     "name": "stdout",
     "output_type": "stream",
     "text": [
      "{'Bob': 68, 'Michel': 84, 'Zico': 57, 'Ana': 93}\n"
     ]
    }
   ],
   "source": [
    "#Dicionario de alunos e notas\n",
    "disc_alunos = {'Bob':68, 'Michel':84, 'Zico':57, 'Ana':93}\n",
    "\n",
    "#Novo dicionario imprimindo os pares chave:valor\n",
    "dict_alunos_status = {k:v for (k,v) in disc_alunos.items()}\n",
    "print(dict_alunos_status)"
   ]
  },
  {
   "cell_type": "code",
   "execution_count": null,
   "id": "3c10c7d7",
   "metadata": {},
   "outputs": [],
   "source": []
  }
 ],
 "metadata": {
  "kernelspec": {
   "display_name": "base",
   "language": "python",
   "name": "python3"
  },
  "language_info": {
   "codemirror_mode": {
    "name": "ipython",
    "version": 3
   },
   "file_extension": ".py",
   "mimetype": "text/x-python",
   "name": "python",
   "nbconvert_exporter": "python",
   "pygments_lexer": "ipython3",
   "version": "3.9.13"
  }
 },
 "nbformat": 4,
 "nbformat_minor": 5
}
