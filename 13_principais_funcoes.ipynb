{
 "cells": [
  {
   "cell_type": "markdown",
   "id": "d31368bb",
   "metadata": {},
   "source": [
    "Algumas das principais e mais usadas funções em python"
   ]
  },
  {
   "cell_type": "markdown",
   "id": "cbccb55a",
   "metadata": {},
   "source": [
    "Função MAP - aplica uma determinada função a cada elemento de uma estrutura de dados iterável"
   ]
  },
  {
   "cell_type": "code",
   "execution_count": 1,
   "id": "d8df5e69",
   "metadata": {},
   "outputs": [],
   "source": [
    "# função que retorna a potencia\n",
    "\n",
    "def potencia(x):\n",
    "    return x ** 2"
   ]
  },
  {
   "cell_type": "code",
   "execution_count": 3,
   "id": "38a2a035",
   "metadata": {},
   "outputs": [
    {
     "name": "stdout",
     "output_type": "stream",
     "text": [
      "[1, 4, 9, 16, 25]\n"
     ]
    }
   ],
   "source": [
    "numeros = [1, 2, 3, 4, 5]\n",
    "\n",
    "numeros_ao_quadrado = list(map(potencia, numeros))\n",
    "print(numeros_ao_quadrado)"
   ]
  },
  {
   "cell_type": "markdown",
   "id": "1c6ac804",
   "metadata": {},
   "source": [
    "Função "
   ]
  },
  {
   "cell_type": "code",
   "execution_count": null,
   "id": "dd1ef900",
   "metadata": {},
   "outputs": [],
   "source": []
  }
 ],
 "metadata": {
  "kernelspec": {
   "display_name": "base",
   "language": "python",
   "name": "python3"
  },
  "language_info": {
   "codemirror_mode": {
    "name": "ipython",
    "version": 3
   },
   "file_extension": ".py",
   "mimetype": "text/x-python",
   "name": "python",
   "nbconvert_exporter": "python",
   "pygments_lexer": "ipython3",
   "version": "3.9.13"
  }
 },
 "nbformat": 4,
 "nbformat_minor": 5
}
