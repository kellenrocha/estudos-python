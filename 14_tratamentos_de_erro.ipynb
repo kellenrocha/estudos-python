{
 "cells": [
  {
   "cell_type": "markdown",
   "id": "fd46d562",
   "metadata": {},
   "source": [
    "## Erros e Exceções\n",
    "\n",
    "try: testa um bloco de codigo //\n",
    "except: lida com o erro //\n",
    "else: executa o codigo quando não há erro //\n",
    "finally: executa o codigo, sem considerar o resultado do try e except //"
   ]
  },
  {
   "cell_type": "code",
   "execution_count": 1,
   "id": "8431a1b9",
   "metadata": {},
   "outputs": [
    {
     "name": "stdout",
     "output_type": "stream",
     "text": [
      "Operação não permitida\n"
     ]
    }
   ],
   "source": [
    "# utilizando try e except\n",
    "\n",
    "try: \n",
    "    8 + 's'\n",
    "except TypeError:\n",
    "    print('Operação não permitida')"
   ]
  },
  {
   "cell_type": "code",
   "execution_count": 11,
   "id": "0b06b21a",
   "metadata": {},
   "outputs": [],
   "source": [
    "# utilizando try, except e finally\n",
    "\n",
    "def askint():\n",
    "    try:\n",
    "        val = int(input('Digite um número: '))\n",
    "    except: # o except sem especificação capta qualquer tipo de erro\n",
    "        print('Você não digitou um número!')\n",
    "    finally:\n",
    "        print('Obrigada!') "
   ]
  },
  {
   "cell_type": "code",
   "execution_count": 3,
   "id": "51ac25df",
   "metadata": {},
   "outputs": [
    {
     "name": "stdout",
     "output_type": "stream",
     "text": [
      "Você não digitou um número!\n",
      "Obrigada!\n"
     ]
    }
   ],
   "source": [
    "askint()"
   ]
  },
  {
   "cell_type": "code",
   "execution_count": null,
   "id": "54f726fa",
   "metadata": {},
   "outputs": [],
   "source": [
    "def askint():\n",
    "    try:\n",
    "        val = int(input('Digite um número: '))\n",
    "    except: \n",
    "        print('Você não digitou um número!')\n",
    "        val = int(input('Tente novamente. Digite um número: '))\n",
    "    finally:\n",
    "        print('Obrigado! ')\n",
    "    print(val)"
   ]
  },
  {
   "cell_type": "code",
   "execution_count": 5,
   "id": "9e591902",
   "metadata": {},
   "outputs": [
    {
     "name": "stdout",
     "output_type": "stream",
     "text": [
      "Você não digitou um número!\n",
      "Obrigada! \n",
      "4\n"
     ]
    }
   ],
   "source": [
    "askint()"
   ]
  },
  {
   "cell_type": "code",
   "execution_count": 12,
   "id": "4482fd97",
   "metadata": {},
   "outputs": [],
   "source": [
    "# forçando o usuário a digitar um número\n",
    "\n",
    "def askint():\n",
    "    while True:\n",
    "        try:\n",
    "            val = int(input('Digite um número: '))\n",
    "        except:\n",
    "            print('Você não digitou um número!')\n",
    "            continue\n",
    "        else:\n",
    "            print ('Obrigado por digitar um número!')\n",
    "            break\n",
    "        finally:\n",
    "            print('Fim da execução!')"
   ]
  },
  {
   "cell_type": "code",
   "execution_count": 10,
   "id": "628dbba9",
   "metadata": {},
   "outputs": [
    {
     "name": "stdout",
     "output_type": "stream",
     "text": [
      "Você não digitou um número!\n",
      "Fim da execução!\n",
      "Você não digitou um número!\n",
      "Fim da execução!\n",
      "Obrigado por digitar um número!\n",
      "Fim da execução!\n"
     ]
    }
   ],
   "source": [
    "askint()"
   ]
  },
  {
   "cell_type": "code",
   "execution_count": null,
   "id": "1f152e15",
   "metadata": {},
   "outputs": [],
   "source": []
  }
 ],
 "metadata": {
  "kernelspec": {
   "display_name": "base",
   "language": "python",
   "name": "python3"
  },
  "language_info": {
   "codemirror_mode": {
    "name": "ipython",
    "version": 3
   },
   "file_extension": ".py",
   "mimetype": "text/x-python",
   "name": "python",
   "nbconvert_exporter": "python",
   "pygments_lexer": "ipython3",
   "version": "3.9.13"
  }
 },
 "nbformat": 4,
 "nbformat_minor": 5
}
