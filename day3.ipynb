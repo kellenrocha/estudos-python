{
 "cells": [
  {
   "cell_type": "markdown",
   "metadata": {},
   "source": [
    "Operadores matemáticos e de comparação"
   ]
  },
  {
   "cell_type": "code",
   "execution_count": 1,
   "metadata": {},
   "outputs": [
    {
     "name": "stdout",
     "output_type": "stream",
     "text": [
      "2.5 7 3 10\n"
     ]
    }
   ],
   "source": [
    "x = 5\n",
    "y = 2\n",
    "\n",
    "divisao = x / y\n",
    "soma = x + y \n",
    "subtracao = x - y\n",
    "multiplicacao = x * y\n",
    "\n",
    "print(divisao, soma, subtracao, multiplicacao)"
   ]
  },
  {
   "cell_type": "code",
   "execution_count": 4,
   "metadata": {},
   "outputs": [
    {
     "name": "stdout",
     "output_type": "stream",
     "text": [
      "Primeiro número: 5.0\n",
      "Segundo número: 7.0\n",
      "Divisão: 0.71\n",
      "Soma: 12.0\n",
      "Subtração: -2.0\n",
      "Multiplicação: 35.0\n"
     ]
    }
   ],
   "source": [
    "x = float(input(\"Digite o primeiro numero: \"))\n",
    "y = float(input(\"Digite o segundo numero: \"))\n",
    "\n",
    "divisao = round(x / y, 2)\n",
    "soma = round(x + y, 2) \n",
    "subtracao = round(x - y, 2)\n",
    "multiplicacao = round(x * y, 2)\n",
    "\n",
    "print(\"Primeiro número:\", x)\n",
    "print(\"Segundo número:\", y)\n",
    "print(\"Divisão:\", divisao)\n",
    "print(\"Soma:\",soma)\n",
    "print(\"Subtração:\", subtracao)\n",
    "print(\"Multiplicação:\", multiplicacao)"
   ]
  },
  {
   "cell_type": "code",
   "execution_count": 6,
   "metadata": {},
   "outputs": [
    {
     "name": "stdout",
     "output_type": "stream",
     "text": [
      "24\n"
     ]
    }
   ],
   "source": [
    "x = 5\n",
    "x += 3\n",
    "x *= 3\n",
    "print(x)"
   ]
  },
  {
   "cell_type": "code",
   "execution_count": 8,
   "metadata": {},
   "outputs": [
    {
     "name": "stdout",
     "output_type": "stream",
     "text": [
      "False\n",
      "True\n",
      "False\n",
      "True\n",
      "False\n",
      "True\n"
     ]
    }
   ],
   "source": [
    "x = 2\n",
    "y = 3\n",
    "\n",
    "print(x == y) \n",
    "print(x != y)\n",
    "print(x > y)\n",
    "print(x < y)\n",
    "print(x >= y)\n",
    "print(x <= y)"
   ]
  },
  {
   "cell_type": "code",
   "execution_count": 12,
   "metadata": {},
   "outputs": [
    {
     "name": "stdout",
     "output_type": "stream",
     "text": [
      "False\n",
      "True\n",
      "False\n"
     ]
    }
   ],
   "source": [
    "x = 5\n",
    "\n",
    "print(x < 5 and x < 10)\n",
    "print(x < 5 or x < 10)\n",
    "print(not(x < 5 or x < 10)) #reverte o resultado"
   ]
  },
  {
   "cell_type": "code",
   "execution_count": 14,
   "metadata": {},
   "outputs": [
    {
     "name": "stdout",
     "output_type": "stream",
     "text": [
      "True\n",
      "False\n"
     ]
    }
   ],
   "source": [
    "# Identity operators are used to compare the objects\n",
    "# but if they are actually the same object, with the same memory location\n",
    "\n",
    "x = 2\n",
    "y = 2\n",
    "\n",
    "print(x is y)\n",
    "print(x is not y)"
   ]
  },
  {
   "cell_type": "code",
   "execution_count": 15,
   "metadata": {},
   "outputs": [
    {
     "name": "stdout",
     "output_type": "stream",
     "text": [
      "False\n",
      "True\n"
     ]
    }
   ],
   "source": [
    "# Membership operators are used to test if a sequence is presented in an object:\n",
    "\n",
    "x = [\"a\", \"b\", \"c\"]\n",
    "y = [\"a\", \"b\", \"c\", \"d\", \"e\"]\n",
    "\n",
    "print(x in y)\n",
    "print(x not in y)"
   ]
  },
  {
   "cell_type": "markdown",
   "metadata": {},
   "source": [
    "Comparando a média de 3 números"
   ]
  },
  {
   "cell_type": "code",
   "execution_count": 18,
   "metadata": {},
   "outputs": [
    {
     "name": "stdout",
     "output_type": "stream",
     "text": [
      "A média de 2 , 5 e 7 é: 4.67\n"
     ]
    }
   ],
   "source": [
    "num1 = int(input(\"Digite o primeiro numero:\"))\n",
    "num2 = int(input(\"Digite o segundo número:\"))\n",
    "num3 = int(input(\"Digite o terceiro número:\"))\n",
    "\n",
    "media_numeros = round((num1 + num2 + num3) / 3, 2) \n",
    "print(\"A média de\", num1, \",\", num2, \"e\", num3, \"é:\", media_numeros )"
   ]
  },
  {
   "cell_type": "code",
   "execution_count": 22,
   "metadata": {},
   "outputs": [
    {
     "name": "stdout",
     "output_type": "stream",
     "text": [
      "9 é mais velho que 8\n"
     ]
    }
   ],
   "source": [
    "idade1 = int(input(\"Digite a primeira idade:\"))\n",
    "idade2 = int(input(\"Digite a segunda idade:\"))\n",
    "\n",
    "teste = idade1 > idade2 \n",
    "\n",
    "if teste == True:\n",
    "    print(idade1, \"é mais velho que\", idade2)\n",
    "elif teste == False:\n",
    "    print(idade2, \"é mais velho que\", idade1)"
   ]
  },
  {
   "cell_type": "code",
   "execution_count": null,
   "metadata": {},
   "outputs": [],
   "source": []
  }
 ],
 "metadata": {
  "kernelspec": {
   "display_name": "base",
   "language": "python",
   "name": "python3"
  },
  "language_info": {
   "codemirror_mode": {
    "name": "ipython",
    "version": 3
   },
   "file_extension": ".py",
   "mimetype": "text/x-python",
   "name": "python",
   "nbconvert_exporter": "python",
   "pygments_lexer": "ipython3",
   "version": "3.9.13"
  }
 },
 "nbformat": 4,
 "nbformat_minor": 2
}
