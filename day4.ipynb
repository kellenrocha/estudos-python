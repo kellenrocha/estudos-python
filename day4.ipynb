{
 "cells": [
  {
   "cell_type": "markdown",
   "metadata": {},
   "source": [
    "Estruturas Condicionais"
   ]
  },
  {
   "cell_type": "code",
   "execution_count": 1,
   "metadata": {},
   "outputs": [
    {
     "name": "stdout",
     "output_type": "stream",
     "text": [
      "y é maior que x\n"
     ]
    }
   ],
   "source": [
    "x = 10\n",
    "y = 15\n",
    "\n",
    "if y > x:\n",
    "    print(\"y é maior que x\")"
   ]
  },
  {
   "cell_type": "code",
   "execution_count": 2,
   "metadata": {},
   "outputs": [
    {
     "name": "stdout",
     "output_type": "stream",
     "text": [
      "x é maior que y\n"
     ]
    }
   ],
   "source": [
    "x = \"350\"\n",
    "y = \"210\"\n",
    "\n",
    "if x > y:\n",
    "    print(\"x é maior que y\")\n",
    "elif x < y:\n",
    "    print(\"y é maior que x\")"
   ]
  },
  {
   "cell_type": "code",
   "execution_count": 4,
   "metadata": {},
   "outputs": [
    {
     "name": "stdout",
     "output_type": "stream",
     "text": [
      "a is greater than b\n"
     ]
    }
   ],
   "source": [
    "a = 200\n",
    "b = 33\n",
    "\n",
    "if b > a:\n",
    "    print(\"b is greater than a\")\n",
    "elif a == b:\n",
    "    print(\"a and b are equal\")\n",
    "else:\n",
    "    print(\"a is greater than b\") #o else captura qualquer condição que não tenha sido \"pega\" anteriormente\n",
    "    "
   ]
  },
  {
   "cell_type": "code",
   "execution_count": 5,
   "metadata": {},
   "outputs": [
    {
     "name": "stdout",
     "output_type": "stream",
     "text": [
      "b is not greater than a\n"
     ]
    }
   ],
   "source": [
    "# é possivel ter o else sem o elif\n",
    "\n",
    "a = 200\n",
    "b = 33\n",
    "\n",
    "if b > a:\n",
    "    print(\"b is greater than a\")\n",
    "else:\n",
    "    print(\"b is not greater than a\") #simplesmente testar somente uma condição \n",
    "    "
   ]
  },
  {
   "cell_type": "markdown",
   "metadata": {},
   "source": [
    "Exercicios"
   ]
  },
  {
   "cell_type": "code",
   "execution_count": 7,
   "metadata": {},
   "outputs": [
    {
     "name": "stdout",
     "output_type": "stream",
     "text": [
      "O número 4 é par\n"
     ]
    }
   ],
   "source": [
    "# verificar se um número é par ou ímpar\n",
    "\n",
    "num = int(input(\"Digite um número:\"))\n",
    "\n",
    "if num % 2 == 0:\n",
    "    print(\"O número\", num, \"é par\")\n",
    "else:\n",
    "    print(\"O número\", num, \"é ímpar\")"
   ]
  },
  {
   "cell_type": "code",
   "execution_count": 11,
   "metadata": {},
   "outputs": [
    {
     "name": "stdout",
     "output_type": "stream",
     "text": [
      "Reprovado com nota 2.0\n"
     ]
    }
   ],
   "source": [
    "# programa de notas \n",
    "\n",
    "nota = float(input(\"Digite sua nota:\"))\n",
    "\n",
    "if nota >= 6:\n",
    "    print(\"Aprovado com nota\", nota)\n",
    "elif nota <= 5.9 and nota >= 4:\n",
    "    print(\"Em recuperação com nota\", nota)\n",
    "else:\n",
    "    print(\"Reprovado com nota\", nota)"
   ]
  },
  {
   "cell_type": "code",
   "execution_count": null,
   "metadata": {},
   "outputs": [],
   "source": []
  }
 ],
 "metadata": {
  "kernelspec": {
   "display_name": "base",
   "language": "python",
   "name": "python3"
  },
  "language_info": {
   "codemirror_mode": {
    "name": "ipython",
    "version": 3
   },
   "file_extension": ".py",
   "mimetype": "text/x-python",
   "name": "python",
   "nbconvert_exporter": "python",
   "pygments_lexer": "ipython3",
   "version": "3.9.13"
  }
 },
 "nbformat": 4,
 "nbformat_minor": 2
}
