{
 "cells": [
  {
   "cell_type": "markdown",
   "metadata": {},
   "source": [
    "Listas"
   ]
  },
  {
   "cell_type": "code",
   "execution_count": 1,
   "metadata": {},
   "outputs": [
    {
     "name": "stdout",
     "output_type": "stream",
     "text": [
      "['Apple', 'banana', 'grape']\n"
     ]
    }
   ],
   "source": [
    "#Listas\n",
    "#list are ordered, changeable and allow duplicate values\n",
    "\n",
    "minhalista = [\"Apple\", \"banana\", \"grape\"]\n",
    "print(minhalista)"
   ]
  },
  {
   "cell_type": "code",
   "execution_count": 4,
   "metadata": {},
   "outputs": [
    {
     "name": "stdout",
     "output_type": "stream",
     "text": [
      "['Apple', 'banana', 'grape']\n",
      "3\n"
     ]
    }
   ],
   "source": [
    "print(minhalista)\n",
    "print(len(minhalista))"
   ]
  },
  {
   "cell_type": "code",
   "execution_count": 7,
   "metadata": {},
   "outputs": [
    {
     "name": "stdout",
     "output_type": "stream",
     "text": [
      "['abc', 55, True, False, 'orange']\n",
      "5\n",
      "<class 'list'>\n"
     ]
    }
   ],
   "source": [
    "minhalista2 = [\"abc\", 55, True, False, \"orange\"]\n",
    "print(minhalista2)\n",
    "print(len(minhalista2))\n",
    "print(type(minhalista2))"
   ]
  },
  {
   "cell_type": "code",
   "execution_count": 9,
   "metadata": {},
   "outputs": [
    {
     "name": "stdout",
     "output_type": "stream",
     "text": [
      "<class 'list'>\n"
     ]
    }
   ],
   "source": [
    "#constructor\n",
    "essalista = list((\"melon\", \"strawberry\", \"peach\"))\n",
    "print(type(essalista))"
   ]
  },
  {
   "cell_type": "code",
   "execution_count": null,
   "metadata": {},
   "outputs": [
    {
     "name": "stdout",
     "output_type": "stream",
     "text": [
      "['Apple', 'banana', 'grape']\n",
      "banana\n",
      "grape\n"
     ]
    }
   ],
   "source": [
    "print(minhalista)\n",
    "print(minhalista[1])\n",
    "print(minhalista[-1]) #negative means start from the end"
   ]
  },
  {
   "cell_type": "code",
   "execution_count": 22,
   "metadata": {},
   "outputs": [
    {
     "name": "stdout",
     "output_type": "stream",
     "text": [
      "orange\n",
      "melon\n",
      "['cherry', 'orange', 'kiwi']\n",
      "['apple', 'banana']\n",
      "['cherry', 'orange', 'kiwi', 'melon', 'mango']\n",
      "Sim, maçã é uma fruta\n"
     ]
    }
   ],
   "source": [
    "mercado = [\"apple\", \"banana\", \"cherry\", \"orange\", \"kiwi\", \"melon\", \"mango\"]\n",
    "\n",
    "print(mercado[3])\n",
    "print(mercado[-2])\n",
    "print(mercado[2:5]) #o índice final não é incluido\n",
    "print(mercado[:2])  #antes do indice 2\n",
    "print(mercado[2:])  #depois do indice 2 \n",
    "\n",
    "if \"apple\" in mercado:\n",
    "    print(\"Sim, maçã é uma fruta\")\n"
   ]
  },
  {
   "cell_type": "code",
   "execution_count": 9,
   "metadata": {},
   "outputs": [
    {
     "name": "stdout",
     "output_type": "stream",
     "text": [
      "['apple', 'mango', 'cherry', 'orange', 'kiwi', 'melon']\n",
      "['apple', 'blackcurrant', 'watermelon', 'orange', 'kiwi', 'melon']\n",
      "['apple', 'banana', 'strawberry', 'watermelon', 'orange', 'kiwi', 'melon']\n",
      "['apple', 'grape', 'watermelon', 'orange', 'kiwi', 'melon']\n",
      "['apple', 'grape', 'banana', 'watermelon', 'orange', 'kiwi', 'melon']\n"
     ]
    }
   ],
   "source": [
    "#Change List Items\n",
    "\n",
    "#substituição de itens\n",
    "mercado2 = [\"apple\", \"banana\", \"cherry\", \"orange\", \"kiwi\", \"melon\"]\n",
    "\n",
    "mercado2[1] = \"mango\"\n",
    "print(mercado2)\n",
    "\n",
    "mercado2[1:3] = [\"blackcurrant\", \"watermelon\"]\n",
    "print(mercado2)\n",
    "\n",
    "mercado2[1:2] = [\"banana\", \"strawberry\"] #inserir mais itens do q substitui: move para o lado\n",
    "print(mercado2)\n",
    "\n",
    "mercado2[1:3] = [\"grape\"] #inserir menos do q substitui: apaga o restante não substituido\n",
    "print(mercado2)\n",
    "\n",
    "mercado2.insert(2, \"banana\") #inserir no indice sem substituir, move para o lado\n",
    "print(mercado2)\n",
    "\n"
   ]
  },
  {
   "cell_type": "code",
   "execution_count": 11,
   "metadata": {},
   "outputs": [
    {
     "name": "stdout",
     "output_type": "stream",
     "text": [
      "['apple', 'banana', 'mango', 'cherry', 'orange', 'kiwi', 'melon']\n",
      "['apple', 'banana', 'mango', 'cherry', 'orange', 'kiwi', 'melon', 'strawberry']\n"
     ]
    }
   ],
   "source": [
    "#adicionando itens\n",
    "mercado3 = [\"apple\", \"banana\", \"cherry\", \"orange\", \"kiwi\", \"melon\"]\n",
    "\n",
    "mercado3.insert(2, \"mango\") #inserir no indice \n",
    "print(mercado3)\n",
    "\n",
    "mercado3.append(\"strawberry\") #inserir no final\n",
    "print(mercado3)"
   ]
  },
  {
   "cell_type": "code",
   "execution_count": 12,
   "metadata": {},
   "outputs": [
    {
     "name": "stdout",
     "output_type": "stream",
     "text": [
      "['apple', 'banana', 'cherry', 'mango', 'pineapple', 'papaya']\n"
     ]
    }
   ],
   "source": [
    "#adicionando itens de outra lista à minha\n",
    "\n",
    "mercado4 = [\"apple\", \"banana\", \"cherry\"]\n",
    "tropical = [\"mango\", \"pineapple\" , \"papaya\"]\n",
    "\n",
    "mercado4.extend(tropical)\n",
    "print(mercado4)\n",
    "\n",
    "# O extend adiciona qualquer objeto iterável (tuplas, conjuntos, dicionários..)"
   ]
  },
  {
   "cell_type": "code",
   "execution_count": 17,
   "metadata": {},
   "outputs": [
    {
     "name": "stdout",
     "output_type": "stream",
     "text": [
      "['apple', 'cherry']\n",
      "['apple', 'cherry', 'banana']\n",
      "['apple', 'banana']\n",
      "['apple']\n"
     ]
    }
   ],
   "source": [
    "#removendo itens da lista\n",
    "\n",
    "mercado5 = [\"apple\", \"banana\", \"cherry\"]\n",
    "mercado5.remove(\"banana\")\n",
    "print(mercado5)\n",
    "\n",
    "mercado5 = [\"apple\", \"banana\", \"cherry\", \"banana\"]\n",
    "mercado5.remove(\"banana\") #só remove a primeira ocorrencia\n",
    "print(mercado5)\n",
    "\n",
    "mercado5.pop(1) #remove índice especificado\n",
    "print(mercado5)\n",
    "\n",
    "mercado5.pop() #remove o ultimo item\n",
    "print(mercado5)"
   ]
  },
  {
   "cell_type": "code",
   "execution_count": 20,
   "metadata": {},
   "outputs": [
    {
     "name": "stdout",
     "output_type": "stream",
     "text": [
      "['apple', 'cherry']\n"
     ]
    }
   ],
   "source": [
    "#palavra chave DEL\n",
    "\n",
    "mercado5 = [\"apple\", \"banana\", \"cherry\"]\n",
    "del mercado5[1] \n",
    "print(mercado5)\n",
    "\n",
    "del mercado5  #remove a lista\n"
   ]
  },
  {
   "cell_type": "code",
   "execution_count": 21,
   "metadata": {},
   "outputs": [
    {
     "name": "stdout",
     "output_type": "stream",
     "text": [
      "[]\n"
     ]
    }
   ],
   "source": [
    "#Limpar a lista\n",
    "\n",
    "mercado5 = [\"apple\", \"banana\", \"cherry\"]\n",
    "mercado5.clear()\n",
    "print(mercado5)"
   ]
  },
  {
   "cell_type": "code",
   "execution_count": 22,
   "metadata": {},
   "outputs": [
    {
     "name": "stdout",
     "output_type": "stream",
     "text": [
      "apple\n",
      "banana\n",
      "cherry\n"
     ]
    }
   ],
   "source": [
    "# loop FOR\n",
    "\n",
    "mercado5 = [\"apple\", \"banana\", \"cherry\"]\n",
    "\n",
    "# para cada elemento em mercado5\n",
    "# atribua esse elemento à variavel x\n",
    "# e execute o bloco de código dentro do loop\n",
    "for x in mercado5:\n",
    "    print(x)"
   ]
  },
  {
   "cell_type": "code",
   "execution_count": 24,
   "metadata": {},
   "outputs": [
    {
     "name": "stdout",
     "output_type": "stream",
     "text": [
      "apple\n",
      "banana\n",
      "cherry\n"
     ]
    }
   ],
   "source": [
    "mercado5 = [\"apple\", \"banana\", \"cherry\"]\n",
    "\n",
    "\n",
    "# a cada iteração, o valor de i representa o índice do elemento atual da lista\n",
    "for i in range(len(mercado5)):\n",
    "    print(mercado5[i])\n",
    "\n",
    "# len retorna o numero de elementos\n",
    "# range cria uma sequencia que vai até o 'stop' Ex: range(5) #saida: 0 1 2 3 4 "
   ]
  },
  {
   "cell_type": "code",
   "execution_count": null,
   "metadata": {},
   "outputs": [],
   "source": []
  }
 ],
 "metadata": {
  "kernelspec": {
   "display_name": "base",
   "language": "python",
   "name": "python3"
  },
  "language_info": {
   "codemirror_mode": {
    "name": "ipython",
    "version": 3
   },
   "file_extension": ".py",
   "mimetype": "text/x-python",
   "name": "python",
   "nbconvert_exporter": "python",
   "pygments_lexer": "ipython3",
   "version": "3.9.13"
  }
 },
 "nbformat": 4,
 "nbformat_minor": 2
}
